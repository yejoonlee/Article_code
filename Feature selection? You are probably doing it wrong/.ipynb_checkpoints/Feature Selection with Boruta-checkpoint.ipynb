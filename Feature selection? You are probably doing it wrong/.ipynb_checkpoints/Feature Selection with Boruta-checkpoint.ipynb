{
 "cells": [
  {
   "cell_type": "code",
   "execution_count": 1,
   "metadata": {},
   "outputs": [],
   "source": [
    "feature_names = [\n",
    "   'linear',            # 1\n",
    "   'nonlinear_square',  # 2\n",
    "   'nonlinear_sin',     # 3\n",
    "   'interaction_1',     # 4\n",
    "   'interaction_2',     # 5\n",
    "   'interaction_3',     # 6\n",
    "   'noise_1',           # 7\n",
    "   'noise_2',           # 8\n",
    "   'noise_3',           # 9\n",
    "   'noise_4',           # 10\n",
    "   'noise_5',           # 11\n",
    "   'noise_6',           # 12\n",
    "   'noise_7',           # 13\n",
    "   'noise_8',           # 14\n",
    "   'noise_9',           # 15\n",
    "   'noise_10'           # 16\n",
    "]"
   ]
  },
  {
   "cell_type": "code",
   "execution_count": 2,
   "metadata": {},
   "outputs": [],
   "source": [
    "def X2y(X, with_error = True):\n",
    "    \n",
    "    # functional form of the dependence between y and X\n",
    "    y_star = X['linear'] + X['nonlinear_square'] ** 2 + np.sin(3 * X['nonlinear_sin']) + (X['interaction_1'] * X['interaction_2'] * X['interaction_3'])\n",
    "    \n",
    "    # add random error called epsilon (this will be used for creating y)\n",
    "    if with_error:\n",
    "        np.random.seed(0)\n",
    "        epsilon = np.random.normal(0, .1, len(y_star))\n",
    "        return y_star + epsilon\n",
    "    \n",
    "    # do not add error (this will be used for prediction)\n",
    "    else:\n",
    "        return y_star\n",
    "\n",
    "import pandas as pd\n",
    "import numpy as np\n",
    "from sklearn.model_selection import train_test_split\n",
    "\n",
    "# make X and y\n",
    "np.random.seed(0)\n",
    "X = pd.DataFrame(np.random.normal(size = (20_000, len(feature_names))), columns = feature_names)\n",
    "y = X2y(X, with_error = True)\n",
    "\n",
    "# make X_trn, X_tst, y_trn, y_tst\n",
    "X_trn, X_tst, y_trn, y_tst = train_test_split(X, y, test_size = .5, random_state = 0)"
   ]
  },
  {
   "cell_type": "code",
   "execution_count": 3,
   "metadata": {},
   "outputs": [],
   "source": [
    "# define a sklearn compatible wrapper for our data generating function\n",
    "class UnbeatableRegressor():\n",
    "    \n",
    "    def __init__(self):\n",
    "        pass\n",
    "    \n",
    "    def fit(self, X, y):\n",
    "        pass  \n",
    "    \n",
    "    def predict(self, X):\n",
    "        return np.array(X2y(X, with_error = False))\n",
    "    \n",
    "    def score(self, X, y):\n",
    "        return mean_absolute_error(y, self.predict(X))"
   ]
  },
  {
   "cell_type": "code",
   "execution_count": 26,
   "metadata": {},
   "outputs": [],
   "source": [
    "from sklearn.dummy import DummyRegressor\n",
    "from sklearn.linear_model import LinearRegression\n",
    "from sklearn.neighbors import KNeighborsRegressor\n",
    "from sklearn.svm import SVR\n",
    "from sklearn.ensemble import RandomForestRegressor\n",
    "from xgboost import XGBRegressor\n",
    "from lightgbm import LGBMRegressor\n",
    "\n",
    "# dictionary of models that will be used for comparison\n",
    "models = {\n",
    "    'DummyRegressor': DummyRegressor(),\n",
    "    'LinearRegression': LinearRegression(),\n",
    "    'KNeighborsRegressor': KNeighborsRegressor(n_neighbors = int(np.sqrt(len(X_trn)))),\n",
    "    'SupportVectorRegressor': SVR(C = .1),\n",
    "    'RandomForestRegressor': RandomForestRegressor(max_depth = 5),\n",
    "    'XGBRegressor': XGBRegressor(max_depht = 5),\n",
    "    'LGBMRegressor': LGBMRegressor(num_leaves = 10),\n",
    "    'UnbeatableRegressor': UnbeatableRegressor()\n",
    "}"
   ]
  },
  {
   "cell_type": "code",
   "execution_count": 27,
   "metadata": {},
   "outputs": [
    {
     "name": "stderr",
     "output_type": "stream",
     "text": [
      "/anaconda3/lib/python3.6/site-packages/ipykernel_launcher.py:20: RuntimeWarning: invalid value encountered in true_divide\n"
     ]
    },
    {
     "name": "stdout",
     "output_type": "stream",
     "text": [
      "[16:41:02] WARNING: /Users/runner/miniforge3/conda-bld/xgboost_1593723618214/work/src/learner.cc:480: \n",
      "Parameters: { max_depht } might not be used.\n",
      "\n",
      "  This may not be accurate due to some parameters are only used in language bindings but\n",
      "  passed down to XGBoost core.  Or some parameters are not used but slip through this\n",
      "  verification. Please open an issue if you find above cases.\n",
      "\n",
      "\n"
     ]
    }
   ],
   "source": [
    "from sklearn.metrics import mean_absolute_error\n",
    "from eli5.sklearn import PermutationImportance\n",
    "\n",
    "mae = pd.DataFrame(columns = ['train', 'test'])\n",
    "fi = pd.DataFrame(columns = feature_names)\n",
    "\n",
    "for model_name in list(models.keys()):\n",
    "\n",
    "    # fit model\n",
    "    models[model_name].fit(X_trn, y_trn)\n",
    "    \n",
    "    # compute mean absolute error of model in train and test set\n",
    "    mae.loc[model_name,:] = [mean_absolute_error(y_trn, models[model_name].predict(X_trn)), mean_absolute_error(y_tst, models[model_name].predict(X_tst))]\n",
    "    \n",
    "    # compute feature importances of model\n",
    "    try:\n",
    "        feature_importances_ = models[model_name].feature_importances_\n",
    "    except:\n",
    "        feature_importances_ = PermutationImportance(models[model_name], cv = 'prefit', n_iter = 3).fit(X_trn, y_trn).feature_importances_\n",
    "    fi.loc[model_name, :] = feature_importances_ / feature_importances_.sum()\n",
    "    \n",
    "fi.fillna(0, inplace = True)"
   ]
  },
  {
   "cell_type": "code",
   "execution_count": 28,
   "metadata": {},
   "outputs": [
    {
     "data": {
      "text/plain": [
       "<matplotlib.axes._subplots.AxesSubplot at 0x1a2917f400>"
      ]
     },
     "execution_count": 28,
     "metadata": {},
     "output_type": "execute_result"
    },
    {
     "data": {
      "image/png": "[encoded data removed]",
      "text/plain": [
       "<Figure size 432x288 with 1 Axes>"
      ]
     },
     "metadata": {
      "needs_background": "light"
     },
     "output_type": "display_data"
    }
   ],
   "source": [
    "mae.plot.barh()"
   ]
  },
  {
   "cell_type": "code",
   "execution_count": 39,
   "metadata": {},
   "outputs": [
    {
     "data": {
      "text/html": [
       "<div>\n",
       "<style scoped>\n",
       "    .dataframe tbody tr th:only-of-type {\n",
       "        vertical-align: middle;\n",
       "    }\n",
       "\n",
       "    .dataframe tbody tr th {\n",
       "        vertical-align: top;\n",
       "    }\n",
       "\n",
       "    .dataframe thead th {\n",
       "        text-align: right;\n",
       "    }\n",
       "</style>\n",
       "<table border=\"1\" class=\"dataframe\">\n",
       "  <thead>\n",
       "    <tr style=\"text-align: right;\">\n",
       "      <th></th>\n",
       "      <th>linear</th>\n",
       "      <th>nonlinear_square</th>\n",
       "      <th>nonlinear_sin</th>\n",
       "      <th>interaction_1</th>\n",
       "      <th>interaction_2</th>\n",
       "      <th>interaction_3</th>\n",
       "      <th>noise_1</th>\n",
       "      <th>noise_2</th>\n",
       "      <th>noise_3</th>\n",
       "      <th>noise_4</th>\n",
       "      <th>noise_5</th>\n",
       "      <th>noise_6</th>\n",
       "      <th>noise_7</th>\n",
       "      <th>noise_8</th>\n",
       "      <th>noise_9</th>\n",
       "      <th>noise_10</th>\n",
       "    </tr>\n",
       "  </thead>\n",
       "  <tbody>\n",
       "    <tr>\n",
       "      <th>DummyRegressor</th>\n",
       "      <td>0.000000</td>\n",
       "      <td>0.000000</td>\n",
       "      <td>0.000000</td>\n",
       "      <td>0.000000</td>\n",
       "      <td>0.000000</td>\n",
       "      <td>0.000000</td>\n",
       "      <td>0.000000</td>\n",
       "      <td>0.000000</td>\n",
       "      <td>0.000000</td>\n",
       "      <td>0.000000</td>\n",
       "      <td>0.000000</td>\n",
       "      <td>0.000000</td>\n",
       "      <td>0.000000</td>\n",
       "      <td>0.000000</td>\n",
       "      <td>0.000000</td>\n",
       "      <td>0.000000</td>\n",
       "    </tr>\n",
       "    <tr>\n",
       "      <th>LinearRegression</th>\n",
       "      <td>0.990348</td>\n",
       "      <td>0.000271</td>\n",
       "      <td>0.002148</td>\n",
       "      <td>0.004026</td>\n",
       "      <td>0.000025</td>\n",
       "      <td>0.000149</td>\n",
       "      <td>0.001086</td>\n",
       "      <td>-0.000007</td>\n",
       "      <td>0.000593</td>\n",
       "      <td>0.000074</td>\n",
       "      <td>-0.000005</td>\n",
       "      <td>0.000484</td>\n",
       "      <td>0.000378</td>\n",
       "      <td>-0.000041</td>\n",
       "      <td>0.000155</td>\n",
       "      <td>0.000316</td>\n",
       "    </tr>\n",
       "    <tr>\n",
       "      <th>KNeighborsRegressor</th>\n",
       "      <td>0.403464</td>\n",
       "      <td>0.360343</td>\n",
       "      <td>0.012217</td>\n",
       "      <td>0.074158</td>\n",
       "      <td>0.076490</td>\n",
       "      <td>0.077070</td>\n",
       "      <td>-0.000293</td>\n",
       "      <td>-0.000227</td>\n",
       "      <td>0.001017</td>\n",
       "      <td>0.001012</td>\n",
       "      <td>-0.000968</td>\n",
       "      <td>-0.000780</td>\n",
       "      <td>0.000421</td>\n",
       "      <td>-0.005113</td>\n",
       "      <td>0.001272</td>\n",
       "      <td>-0.000084</td>\n",
       "    </tr>\n",
       "    <tr>\n",
       "      <th>SupportVectorRegressor</th>\n",
       "      <td>0.404318</td>\n",
       "      <td>0.439326</td>\n",
       "      <td>0.007901</td>\n",
       "      <td>0.038604</td>\n",
       "      <td>0.036810</td>\n",
       "      <td>0.035857</td>\n",
       "      <td>0.003750</td>\n",
       "      <td>0.003112</td>\n",
       "      <td>0.002887</td>\n",
       "      <td>0.004744</td>\n",
       "      <td>0.004248</td>\n",
       "      <td>0.004652</td>\n",
       "      <td>0.003574</td>\n",
       "      <td>0.002479</td>\n",
       "      <td>0.003777</td>\n",
       "      <td>0.003960</td>\n",
       "    </tr>\n",
       "    <tr>\n",
       "      <th>RandomForestRegressor</th>\n",
       "      <td>0.329358</td>\n",
       "      <td>0.659570</td>\n",
       "      <td>0.001628</td>\n",
       "      <td>0.000649</td>\n",
       "      <td>0.003900</td>\n",
       "      <td>0.002203</td>\n",
       "      <td>0.000239</td>\n",
       "      <td>0.000090</td>\n",
       "      <td>0.000342</td>\n",
       "      <td>0.000195</td>\n",
       "      <td>0.000160</td>\n",
       "      <td>0.000212</td>\n",
       "      <td>0.000246</td>\n",
       "      <td>0.000915</td>\n",
       "      <td>0.000128</td>\n",
       "      <td>0.000166</td>\n",
       "    </tr>\n",
       "    <tr>\n",
       "      <th>XGBRegressor</th>\n",
       "      <td>0.193383</td>\n",
       "      <td>0.460054</td>\n",
       "      <td>0.111072</td>\n",
       "      <td>0.034741</td>\n",
       "      <td>0.050875</td>\n",
       "      <td>0.052839</td>\n",
       "      <td>0.011164</td>\n",
       "      <td>0.011794</td>\n",
       "      <td>0.009744</td>\n",
       "      <td>0.008316</td>\n",
       "      <td>0.008744</td>\n",
       "      <td>0.007798</td>\n",
       "      <td>0.008044</td>\n",
       "      <td>0.011629</td>\n",
       "      <td>0.009001</td>\n",
       "      <td>0.010803</td>\n",
       "    </tr>\n",
       "    <tr>\n",
       "      <th>LGBMRegressor</th>\n",
       "      <td>0.146667</td>\n",
       "      <td>0.250000</td>\n",
       "      <td>0.232222</td>\n",
       "      <td>0.082222</td>\n",
       "      <td>0.093333</td>\n",
       "      <td>0.086667</td>\n",
       "      <td>0.013333</td>\n",
       "      <td>0.003333</td>\n",
       "      <td>0.021111</td>\n",
       "      <td>0.005556</td>\n",
       "      <td>0.014444</td>\n",
       "      <td>0.002222</td>\n",
       "      <td>0.013333</td>\n",
       "      <td>0.020000</td>\n",
       "      <td>0.012222</td>\n",
       "      <td>0.003333</td>\n",
       "    </tr>\n",
       "    <tr>\n",
       "      <th>UnbeatableRegressor</th>\n",
       "      <td>0.209452</td>\n",
       "      <td>0.240513</td>\n",
       "      <td>0.148705</td>\n",
       "      <td>0.133412</td>\n",
       "      <td>0.132965</td>\n",
       "      <td>0.134953</td>\n",
       "      <td>-0.000000</td>\n",
       "      <td>-0.000000</td>\n",
       "      <td>-0.000000</td>\n",
       "      <td>-0.000000</td>\n",
       "      <td>-0.000000</td>\n",
       "      <td>-0.000000</td>\n",
       "      <td>-0.000000</td>\n",
       "      <td>-0.000000</td>\n",
       "      <td>-0.000000</td>\n",
       "      <td>-0.000000</td>\n",
       "    </tr>\n",
       "  </tbody>\n",
       "</table>\n",
       "</div>"
      ],
      "text/plain": [
       "                          linear  nonlinear_square  nonlinear_sin  \\\n",
       "DummyRegressor          0.000000          0.000000       0.000000   \n",
       "LinearRegression        0.990348          0.000271       0.002148   \n",
       "KNeighborsRegressor     0.403464          0.360343       0.012217   \n",
       "SupportVectorRegressor  0.404318          0.439326       0.007901   \n",
       "RandomForestRegressor   0.329358          0.659570       0.001628   \n",
       "XGBRegressor            0.193383          0.460054       0.111072   \n",
       "LGBMRegressor           0.146667          0.250000       0.232222   \n",
       "UnbeatableRegressor     0.209452          0.240513       0.148705   \n",
       "\n",
       "                        interaction_1  interaction_2  interaction_3   noise_1  \\\n",
       "DummyRegressor               0.000000       0.000000       0.000000  0.000000   \n",
       "LinearRegression             0.004026       0.000025       0.000149  0.001086   \n",
       "KNeighborsRegressor          0.074158       0.076490       0.077070 -0.000293   \n",
       "SupportVectorRegressor       0.038604       0.036810       0.035857  0.003750   \n",
       "RandomForestRegressor        0.000649       0.003900       0.002203  0.000239   \n",
       "XGBRegressor                 0.034741       0.050875       0.052839  0.011164   \n",
       "LGBMRegressor                0.082222       0.093333       0.086667  0.013333   \n",
       "UnbeatableRegressor          0.133412       0.132965       0.134953 -0.000000   \n",
       "\n",
       "                         noise_2   noise_3   noise_4   noise_5   noise_6  \\\n",
       "DummyRegressor          0.000000  0.000000  0.000000  0.000000  0.000000   \n",
       "LinearRegression       -0.000007  0.000593  0.000074 -0.000005  0.000484   \n",
       "KNeighborsRegressor    -0.000227  0.001017  0.001012 -0.000968 -0.000780   \n",
       "SupportVectorRegressor  0.003112  0.002887  0.004744  0.004248  0.004652   \n",
       "RandomForestRegressor   0.000090  0.000342  0.000195  0.000160  0.000212   \n",
       "XGBRegressor            0.011794  0.009744  0.008316  0.008744  0.007798   \n",
       "LGBMRegressor           0.003333  0.021111  0.005556  0.014444  0.002222   \n",
       "UnbeatableRegressor    -0.000000 -0.000000 -0.000000 -0.000000 -0.000000   \n",
       "\n",
       "                         noise_7   noise_8   noise_9  noise_10  \n",
       "DummyRegressor          0.000000  0.000000  0.000000  0.000000  \n",
       "LinearRegression        0.000378 -0.000041  0.000155  0.000316  \n",
       "KNeighborsRegressor     0.000421 -0.005113  0.001272 -0.000084  \n",
       "SupportVectorRegressor  0.003574  0.002479  0.003777  0.003960  \n",
       "RandomForestRegressor   0.000246  0.000915  0.000128  0.000166  \n",
       "XGBRegressor            0.008044  0.011629  0.009001  0.010803  \n",
       "LGBMRegressor           0.013333  0.020000  0.012222  0.003333  \n",
       "UnbeatableRegressor    -0.000000 -0.000000 -0.000000 -0.000000  "
      ]
     },
     "execution_count": 39,
     "metadata": {},
     "output_type": "execute_result"
    }
   ],
   "source": [
    "fi"
   ]
  },
  {
   "cell_type": "code",
   "execution_count": 41,
   "metadata": {},
   "outputs": [
    {
     "data": {
      "text/plain": [
       "<matplotlib.axes._subplots.AxesSubplot at 0x1a296e5a58>"
      ]
     },
     "execution_count": 41,
     "metadata": {},
     "output_type": "execute_result"
    },
    {
     "data": {
      "image/png": "[encoded data removed]",
      "text/plain": [
       "<Figure size 432x288 with 1 Axes>"
      ]
     },
     "metadata": {
      "needs_background": "light"
     },
     "output_type": "display_data"
    }
   ],
   "source": [
    "fi.loc['RandomForestRegressor'].plot.barh()"
   ]
  },
  {
   "cell_type": "code",
   "execution_count": 31,
   "metadata": {},
   "outputs": [
    {
     "name": "stdout",
     "output_type": "stream",
     "text": [
      "Collecting Boruta\n",
      "  Downloading Boruta-0.3-py3-none-any.whl (56 kB)\n",
      "\u001b[K     |################################| 56 kB 1.1 MB/s eta 0:00:011\n",
      "\u001b[?25hRequirement already satisfied: scikit-learn>=0.17.1 in /anaconda3/lib/python3.6/site-packages (from Boruta) (0.23.1)\n",
      "Requirement already satisfied: numpy>=1.10.4 in /anaconda3/lib/python3.6/site-packages (from Boruta) (1.18.5)\n",
      "Requirement already satisfied: scipy>=0.17.0 in /anaconda3/lib/python3.6/site-packages (from Boruta) (1.5.0)\n",
      "Requirement already satisfied: joblib>=0.11 in /anaconda3/lib/python3.6/site-packages (from scikit-learn>=0.17.1->Boruta) (0.16.0)\n",
      "Requirement already satisfied: threadpoolctl>=2.0.0 in /anaconda3/lib/python3.6/site-packages (from scikit-learn>=0.17.1->Boruta) (2.1.0)\n",
      "Installing collected packages: Boruta\n",
      "Successfully installed Boruta-0.3\n"
     ]
    }
   ],
   "source": [
    "!pip install Boruta"
   ]
  },
  {
   "cell_type": "code",
   "execution_count": 32,
   "metadata": {},
   "outputs": [],
   "source": [
    "from boruta import BorutaPy\n",
    "\n",
    "# instantiate random forest\n",
    "forest = RandomForestRegressor(n_jobs = -1, max_depth = 5)\n",
    "\n",
    "# fit boruta\n",
    "boruta_selector = BorutaPy(forest, n_estimators = 'auto', random_state = 0)\n",
    "boruta_selector.fit(np.array(X_trn), np.array(y_trn))\n",
    "\n",
    "# store results\n",
    "boruta_ranking = boruta_selector.ranking_\n",
    "selected_features = np.array(feature_names)[boruta_ranking <= 2]"
   ]
  },
  {
   "cell_type": "markdown",
   "metadata": {},
   "source": [
    "- **ranking 1: confirmed features** (these features bear some signal with respect to the target variable, so they should be kept);\n",
    "- **ranking 2: tentative features** (Boruta is indecisive about these features, the choice is up to you, I am a conservative guy: my suggestion is to keep them);\n",
    "- **ranking 3 or higher: rejected features** (these are just noise, so they should be dropped)."
   ]
  },
  {
   "cell_type": "code",
   "execution_count": 33,
   "metadata": {},
   "outputs": [
    {
     "data": {
      "text/plain": [
       "array([ 1,  1,  1,  2,  1,  1,  5, 12,  4,  8,  7,  6, 10,  3,  9, 10])"
      ]
     },
     "execution_count": 33,
     "metadata": {},
     "output_type": "execute_result"
    }
   ],
   "source": [
    "boruta_ranking"
   ]
  },
  {
   "cell_type": "code",
   "execution_count": 34,
   "metadata": {},
   "outputs": [
    {
     "data": {
      "text/plain": [
       "array(['linear', 'nonlinear_square', 'nonlinear_sin', 'interaction_1',\n",
       "       'interaction_2', 'interaction_3'], dtype='<U16')"
      ]
     },
     "execution_count": 34,
     "metadata": {},
     "output_type": "execute_result"
    }
   ],
   "source": [
    "selected_features"
   ]
  },
  {
   "cell_type": "code",
   "execution_count": 43,
   "metadata": {},
   "outputs": [
    {
     "data": {
      "text/plain": [
       "array([ True,  True,  True, False,  True,  True, False, False, False,\n",
       "       False, False, False, False, False, False, False])"
      ]
     },
     "execution_count": 43,
     "metadata": {},
     "output_type": "execute_result"
    }
   ],
   "source": [
    "boruta_selector.support_"
   ]
  },
  {
   "cell_type": "code",
   "execution_count": 45,
   "metadata": {},
   "outputs": [
    {
     "data": {
      "text/plain": [
       "<matplotlib.axes._subplots.AxesSubplot at 0x1a28fa7940>"
      ]
     },
     "execution_count": 45,
     "metadata": {},
     "output_type": "execute_result"
    },
    {
     "data": {
      "image/png": "[encoded data removed]",
      "text/plain": [
       "<Figure size 432x288 with 1 Axes>"
      ]
     },
     "metadata": {
      "needs_background": "light"
     },
     "output_type": "display_data"
    }
   ],
   "source": [
    "boruta_selection_frame = pd.DataFrame(boruta_ranking, feature_names)\n",
    "boruta_selection_frame.plot.barh()"
   ]
  },
  {
   "cell_type": "code",
   "execution_count": null,
   "metadata": {},
   "outputs": [],
   "source": []
  }
 ],
 "metadata": {
  "kernelspec": {
   "display_name": "Python 3",
   "language": "python",
   "name": "python3"
  },
  "language_info": {
   "codemirror_mode": {
    "name": "ipython",
    "version": 3
   },
   "file_extension": ".py",
   "mimetype": "text/x-python",
   "name": "python",
   "nbconvert_exporter": "python",
   "pygments_lexer": "ipython3",
   "version": "3.6.10"
  }
 },
 "nbformat": 4,
 "nbformat_minor": 4
}
