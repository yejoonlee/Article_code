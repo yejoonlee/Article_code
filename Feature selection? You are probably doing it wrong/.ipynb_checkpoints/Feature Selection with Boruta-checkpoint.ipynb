{
 "cells": [
  {
   "cell_type": "code",
   "execution_count": 1,
   "metadata": {},
   "outputs": [],
   "source": [
    "feature_names = [\n",
    "   'linear',            # 1\n",
    "   'nonlinear_square',  # 2\n",
    "   'nonlinear_sin',     # 3\n",
    "   'interaction_1',     # 4\n",
    "   'interaction_2',     # 5\n",
    "   'interaction_3',     # 6\n",
    "   'noise_1',           # 7\n",
    "   'noise_2',           # 8\n",
    "   'noise_3',           # 9\n",
    "   'noise_4',           # 10\n",
    "   'noise_5',           # 11\n",
    "   'noise_6',           # 12\n",
    "   'noise_7',           # 13\n",
    "   'noise_8',           # 14\n",
    "   'noise_9',           # 15\n",
    "   'noise_10'           # 16\n",
    "]"
   ]
  },
  {
   "cell_type": "code",
   "execution_count": null,
   "metadata": {},
   "outputs": [],
   "source": []
  }
 ],
 "metadata": {
  "kernelspec": {
   "display_name": "Python 3",
   "language": "python",
   "name": "python3"
  },
  "language_info": {
   "codemirror_mode": {
    "name": "ipython",
    "version": 3
   },
   "file_extension": ".py",
   "mimetype": "text/x-python",
   "name": "python",
   "nbconvert_exporter": "python",
   "pygments_lexer": "ipython3",
   "version": "3.6.10"
  }
 },
 "nbformat": 4,
 "nbformat_minor": 4
}
