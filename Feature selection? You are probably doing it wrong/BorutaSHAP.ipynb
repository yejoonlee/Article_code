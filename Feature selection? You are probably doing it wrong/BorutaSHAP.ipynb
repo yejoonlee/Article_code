{
 "cells": [
  {
   "cell_type": "code",
   "execution_count": 1,
   "metadata": {},
   "outputs": [
    {
     "name": "stdout",
     "output_type": "stream",
     "text": [
      "Collecting BorutaShap\n",
      "  Downloading BorutaShap-1.0.15-py3-none-any.whl (13 kB)\n",
      "Requirement already satisfied: statsmodels in /anaconda3/lib/python3.6/site-packages (from BorutaShap) (0.11.1)\n",
      "Requirement already satisfied: matplotlib in /anaconda3/lib/python3.6/site-packages (from BorutaShap) (3.2.2)\n",
      "Collecting shap>=0.34.0\n",
      "  Downloading shap-0.37.0.tar.gz (326 kB)\n",
      "\u001b[K     |################################| 326 kB 1.4 MB/s eta 0:00:01\n",
      "\u001b[?25hRequirement already satisfied: pandas in /anaconda3/lib/python3.6/site-packages (from BorutaShap) (1.0.5)\n",
      "Requirement already satisfied: tqdm in /anaconda3/lib/python3.6/site-packages (from BorutaShap) (4.47.0)\n",
      "Requirement already satisfied: scipy in /anaconda3/lib/python3.6/site-packages (from BorutaShap) (1.5.0)\n",
      "Requirement already satisfied: numpy in /anaconda3/lib/python3.6/site-packages (from BorutaShap) (1.18.5)\n",
      "Requirement already satisfied: scikit-learn in /anaconda3/lib/python3.6/site-packages (from BorutaShap) (0.23.1)\n",
      "Requirement already satisfied: seaborn in /anaconda3/lib/python3.6/site-packages (from BorutaShap) (0.10.1)\n",
      "Requirement already satisfied: patsy>=0.5 in /anaconda3/lib/python3.6/site-packages (from statsmodels->BorutaShap) (0.5.1)\n",
      "Requirement already satisfied: pyparsing!=2.0.4,!=2.1.2,!=2.1.6,>=2.0.1 in /anaconda3/lib/python3.6/site-packages (from matplotlib->BorutaShap) (2.4.7)\n",
      "Requirement already satisfied: kiwisolver>=1.0.1 in /anaconda3/lib/python3.6/site-packages (from matplotlib->BorutaShap) (1.2.0)\n",
      "Requirement already satisfied: cycler>=0.10 in /anaconda3/lib/python3.6/site-packages (from matplotlib->BorutaShap) (0.10.0)\n",
      "Requirement already satisfied: python-dateutil>=2.1 in /anaconda3/lib/python3.6/site-packages (from matplotlib->BorutaShap) (2.8.1)\n",
      "Collecting slicer==0.0.3\n",
      "  Downloading slicer-0.0.3-py3-none-any.whl (11 kB)\n",
      "Requirement already satisfied: numba in /anaconda3/lib/python3.6/site-packages (from shap>=0.34.0->BorutaShap) (0.50.1)\n",
      "Requirement already satisfied: pytz>=2017.2 in /anaconda3/lib/python3.6/site-packages (from pandas->BorutaShap) (2020.1)\n",
      "Requirement already satisfied: joblib>=0.11 in /anaconda3/lib/python3.6/site-packages (from scikit-learn->BorutaShap) (0.16.0)\n",
      "Requirement already satisfied: threadpoolctl>=2.0.0 in /anaconda3/lib/python3.6/site-packages (from scikit-learn->BorutaShap) (2.1.0)\n",
      "Requirement already satisfied: six in /anaconda3/lib/python3.6/site-packages (from patsy>=0.5->statsmodels->BorutaShap) (1.15.0)\n",
      "Requirement already satisfied: llvmlite<0.34,>=0.33.0.dev0 in /anaconda3/lib/python3.6/site-packages (from numba->shap>=0.34.0->BorutaShap) (0.33.0+1.g022ab0f)\n",
      "Requirement already satisfied: setuptools in /anaconda3/lib/python3.6/site-packages (from numba->shap>=0.34.0->BorutaShap) (49.2.0.post20200714)\n",
      "Building wheels for collected packages: shap\n",
      "  Building wheel for shap (setup.py) ... \u001b[?25ldone\n",
      "\u001b[?25h  Created wheel for shap: filename=shap-0.37.0-cp36-cp36m-macosx_10_9_x86_64.whl size=379043 sha256=6ccda6bb3ad943f522ac3ea34e8248c9adf5f3cc73b5b58f66b7ded21871e355\n",
      "  Stored in directory: /Users/nezmi/Library/Caches/pip/wheels/9f/f0/81/55d1fce3ccceacb520abc45e88f3d2de2959cd079f712b5f85\n",
      "Successfully built shap\n",
      "Installing collected packages: slicer, shap, BorutaShap\n",
      "  Attempting uninstall: shap\n",
      "    Found existing installation: shap 0.32.1\n",
      "    Uninstalling shap-0.32.1:\n",
      "      Successfully uninstalled shap-0.32.1\n",
      "Successfully installed BorutaShap-1.0.15 shap-0.37.0 slicer-0.0.3\n"
     ]
    }
   ],
   "source": [
    "!pip install BorutaShap"
   ]
  },
  {
   "cell_type": "code",
   "execution_count": 2,
   "metadata": {},
   "outputs": [
    {
     "name": "stderr",
     "output_type": "stream",
     "text": [
      "100%|██████████| 100/100 [00:20<00:00,  4.88it/s]"
     ]
    },
    {
     "name": "stdout",
     "output_type": "stream",
     "text": [
      "11 attributes confirmed important: ['worst texture', 'worst radius', 'worst perimeter', 'mean concave points', 'area error', 'worst area', 'worst concave points', 'mean texture', 'compactness error', 'worst concavity', 'worst smoothness']\n",
      "19 attributes confirmed unimportant: ['smoothness error', 'radius error', 'mean radius', 'mean concavity', 'texture error', 'mean perimeter', 'concave points error', 'symmetry error', 'concavity error', 'worst fractal dimension', 'fractal dimension error', 'mean symmetry', 'perimeter error', 'mean area', 'mean compactness', 'mean fractal dimension', 'worst compactness', 'worst symmetry', 'mean smoothness']\n",
      "0 tentative attributes remains: []\n"
     ]
    },
    {
     "name": "stderr",
     "output_type": "stream",
     "text": [
      "\n"
     ]
    }
   ],
   "source": [
    "from BorutaShap import BorutaShap, load_data\n",
    "from xgboost import XGBClassifier\n",
    "\n",
    "X, y = load_data(data_type='classification')\n",
    "X.head()\n",
    "\n",
    "model = XGBClassifier()\n",
    "\n",
    "# if classification is False it is a Regression problem\n",
    "Feature_Selector = BorutaShap(model=model,\n",
    "                              importance_measure='shap',\n",
    "                              classification=True)\n",
    "\n",
    "Feature_Selector.fit(X=X, y=y, n_trials=100, sample=False,\n",
    "                     train_or_test = 'test', normalize=True,\n",
    "                     verbose=True)"
   ]
  },
  {
   "cell_type": "code",
   "execution_count": 3,
   "metadata": {},
   "outputs": [
    {
     "name": "stderr",
     "output_type": "stream",
     "text": [
      "100%|██████████| 100/100 [06:35<00:00,  3.96s/it]\n"
     ]
    },
    {
     "name": "stdout",
     "output_type": "stream",
     "text": [
      "10 attributes confirmed important: ['PTRATIO', 'B', 'INDUS', 'LSTAT', 'TAX', 'NOX', 'DIS', 'AGE', 'CRIM', 'RM']\n",
      "3 attributes confirmed unimportant: ['ZN', 'CHAS', 'RAD']\n",
      "0 tentative attributes remains: []\n"
     ]
    },
    {
     "data": {
      "image/png": "[encoded data removed]",
      "text/plain": [
       "<Figure size 1368x576 with 1 Axes>"
      ]
     },
     "metadata": {
      "needs_background": "light"
     },
     "output_type": "display_data"
    }
   ],
   "source": [
    "X, y = load_data(data_type='regression')\n",
    "X.head()\n",
    "Feature_Selector = BorutaShap(importance_measure='shap',\n",
    "                              classification=False)\n",
    "\n",
    "Feature_Selector.fit(X=X, y=y, n_trials=100, random_state=0)\n",
    "Feature_Selector.plot(X_size=12, figsize=(19,8),\n",
    "                      y_scale='log', which_features='all',)"
   ]
  },
  {
   "cell_type": "code",
   "execution_count": 4,
   "metadata": {},
   "outputs": [
    {
     "ename": "IndentationError",
     "evalue": "expected an indented block (<ipython-input-4-22f7e5d1aeb6>, line 3)",
     "output_type": "error",
     "traceback": [
      "\u001b[0;36m  File \u001b[0;32m\"<ipython-input-4-22f7e5d1aeb6>\"\u001b[0;36m, line \u001b[0;32m3\u001b[0m\n\u001b[0;31m    self.explain()\u001b[0m\n\u001b[0m       ^\u001b[0m\n\u001b[0;31mIndentationError\u001b[0m\u001b[0;31m:\u001b[0m expected an indented block\n"
     ]
    }
   ],
   "source": [
    "if self.importance_measure == 'shap':\n",
    "\n",
    "    self.explain()\n",
    "    vals = self.shap_values\n",
    "\n",
    "if normalize:\n",
    "    vals = self.calculate_Zscore(vals)\n",
    "\n",
    "    X_feature_import = vals[:len(self.X.columns)]\n",
    "    Shadow_feature_import = vals[len(self.X_shadow.columns):]\n",
    "\n",
    "\n",
    "elif self.importance_measure == 'gini':\n",
    "\n",
    "    feature_importances_ =  np.abs(self.model.feature_importances_)\n",
    "\n",
    "if normalize:\n",
    "    feature_importances_ = self.calculate_Zscore(feature_importances_)\n",
    "\n",
    "    X_feature_import = feature_importances_[:len(self.X.columns)]\n",
    "    Shadow_feature_import = feature_importances_[len(self.X.columns):]\n",
    "\n",
    "else:\n",
    "\n",
    "    raise ValueError('No Importance_measure was specified select one of (shap, gini)')"
   ]
  },
  {
   "cell_type": "code",
   "execution_count": null,
   "metadata": {},
   "outputs": [],
   "source": []
  }
 ],
 "metadata": {
  "kernelspec": {
   "display_name": "Python 3",
   "language": "python",
   "name": "python3"
  },
  "language_info": {
   "codemirror_mode": {
    "name": "ipython",
    "version": 3
   },
   "file_extension": ".py",
   "mimetype": "text/x-python",
   "name": "python",
   "nbconvert_exporter": "python",
   "pygments_lexer": "ipython3",
   "version": "3.6.10"
  }
 },
 "nbformat": 4,
 "nbformat_minor": 4
}
